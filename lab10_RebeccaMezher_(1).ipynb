{
  "cells": [
    {
      "cell_type": "markdown",
      "metadata": {
        "id": "3xJZHjKAJsL8"
      },
      "source": [
        "# OPAN5505 Lab 3 Assignment\n",
        "\n",
        "## Background\n",
        "\n",
        "You've been engaged by the Federal Aviation Administration to perform an analysis on \"strike\" data. A \"strike\" refers to when an aircraft and an object within the air (typically wildlife) collide."
      ]
    },
    {
      "cell_type": "markdown",
      "metadata": {
        "id": "6SxDpQMTJsL9"
      },
      "source": [
        "## Prepare your environment\n",
        "\n",
        "You will need the `polars` package for this assignment. We'll also use `datetime` for date handling."
      ]
    },
    {
      "cell_type": "code",
      "execution_count": 2,
      "metadata": {
        "id": "cEm92s2VJsL9"
      },
      "outputs": [],
      "source": [
        "# Import required libraries\n",
        "import polars as pl\n",
        "import datetime"
      ]
    },
    {
      "cell_type": "markdown",
      "metadata": {
        "id": "YUXR96oCJsL-"
      },
      "source": [
        "## Load your dataset\n",
        "\n",
        "Read the `faa_strikes.txt` dataset into Polars. Name the resulting DataFrame `strikes`."
      ]
    },
    {
      "cell_type": "markdown",
      "source": [],
      "metadata": {
        "id": "w_kxXuuQKxRk"
      }
    },
    {
      "cell_type": "code",
      "execution_count": 5,
      "metadata": {
        "colab": {
          "base_uri": "https://localhost:8080/",
          "height": 74
        },
        "id": "-ZsQEkg_JsL-",
        "outputId": "10009da5-a298-4cfd-93ad-0826f2657d54"
      },
      "outputs": [
        {
          "output_type": "display_data",
          "data": {
            "text/plain": [
              "<IPython.core.display.HTML object>"
            ],
            "text/html": [
              "\n",
              "     <input type=\"file\" id=\"files-a26c0eb8-de1b-40e6-bb8c-fb265892fba5\" name=\"files[]\" multiple disabled\n",
              "        style=\"border:none\" />\n",
              "     <output id=\"result-a26c0eb8-de1b-40e6-bb8c-fb265892fba5\">\n",
              "      Upload widget is only available when the cell has been executed in the\n",
              "      current browser session. Please rerun this cell to enable.\n",
              "      </output>\n",
              "      <script>// Copyright 2017 Google LLC\n",
              "//\n",
              "// Licensed under the Apache License, Version 2.0 (the \"License\");\n",
              "// you may not use this file except in compliance with the License.\n",
              "// You may obtain a copy of the License at\n",
              "//\n",
              "//      http://www.apache.org/licenses/LICENSE-2.0\n",
              "//\n",
              "// Unless required by applicable law or agreed to in writing, software\n",
              "// distributed under the License is distributed on an \"AS IS\" BASIS,\n",
              "// WITHOUT WARRANTIES OR CONDITIONS OF ANY KIND, either express or implied.\n",
              "// See the License for the specific language governing permissions and\n",
              "// limitations under the License.\n",
              "\n",
              "/**\n",
              " * @fileoverview Helpers for google.colab Python module.\n",
              " */\n",
              "(function(scope) {\n",
              "function span(text, styleAttributes = {}) {\n",
              "  const element = document.createElement('span');\n",
              "  element.textContent = text;\n",
              "  for (const key of Object.keys(styleAttributes)) {\n",
              "    element.style[key] = styleAttributes[key];\n",
              "  }\n",
              "  return element;\n",
              "}\n",
              "\n",
              "// Max number of bytes which will be uploaded at a time.\n",
              "const MAX_PAYLOAD_SIZE = 100 * 1024;\n",
              "\n",
              "function _uploadFiles(inputId, outputId) {\n",
              "  const steps = uploadFilesStep(inputId, outputId);\n",
              "  const outputElement = document.getElementById(outputId);\n",
              "  // Cache steps on the outputElement to make it available for the next call\n",
              "  // to uploadFilesContinue from Python.\n",
              "  outputElement.steps = steps;\n",
              "\n",
              "  return _uploadFilesContinue(outputId);\n",
              "}\n",
              "\n",
              "// This is roughly an async generator (not supported in the browser yet),\n",
              "// where there are multiple asynchronous steps and the Python side is going\n",
              "// to poll for completion of each step.\n",
              "// This uses a Promise to block the python side on completion of each step,\n",
              "// then passes the result of the previous step as the input to the next step.\n",
              "function _uploadFilesContinue(outputId) {\n",
              "  const outputElement = document.getElementById(outputId);\n",
              "  const steps = outputElement.steps;\n",
              "\n",
              "  const next = steps.next(outputElement.lastPromiseValue);\n",
              "  return Promise.resolve(next.value.promise).then((value) => {\n",
              "    // Cache the last promise value to make it available to the next\n",
              "    // step of the generator.\n",
              "    outputElement.lastPromiseValue = value;\n",
              "    return next.value.response;\n",
              "  });\n",
              "}\n",
              "\n",
              "/**\n",
              " * Generator function which is called between each async step of the upload\n",
              " * process.\n",
              " * @param {string} inputId Element ID of the input file picker element.\n",
              " * @param {string} outputId Element ID of the output display.\n",
              " * @return {!Iterable<!Object>} Iterable of next steps.\n",
              " */\n",
              "function* uploadFilesStep(inputId, outputId) {\n",
              "  const inputElement = document.getElementById(inputId);\n",
              "  inputElement.disabled = false;\n",
              "\n",
              "  const outputElement = document.getElementById(outputId);\n",
              "  outputElement.innerHTML = '';\n",
              "\n",
              "  const pickedPromise = new Promise((resolve) => {\n",
              "    inputElement.addEventListener('change', (e) => {\n",
              "      resolve(e.target.files);\n",
              "    });\n",
              "  });\n",
              "\n",
              "  const cancel = document.createElement('button');\n",
              "  inputElement.parentElement.appendChild(cancel);\n",
              "  cancel.textContent = 'Cancel upload';\n",
              "  const cancelPromise = new Promise((resolve) => {\n",
              "    cancel.onclick = () => {\n",
              "      resolve(null);\n",
              "    };\n",
              "  });\n",
              "\n",
              "  // Wait for the user to pick the files.\n",
              "  const files = yield {\n",
              "    promise: Promise.race([pickedPromise, cancelPromise]),\n",
              "    response: {\n",
              "      action: 'starting',\n",
              "    }\n",
              "  };\n",
              "\n",
              "  cancel.remove();\n",
              "\n",
              "  // Disable the input element since further picks are not allowed.\n",
              "  inputElement.disabled = true;\n",
              "\n",
              "  if (!files) {\n",
              "    return {\n",
              "      response: {\n",
              "        action: 'complete',\n",
              "      }\n",
              "    };\n",
              "  }\n",
              "\n",
              "  for (const file of files) {\n",
              "    const li = document.createElement('li');\n",
              "    li.append(span(file.name, {fontWeight: 'bold'}));\n",
              "    li.append(span(\n",
              "        `(${file.type || 'n/a'}) - ${file.size} bytes, ` +\n",
              "        `last modified: ${\n",
              "            file.lastModifiedDate ? file.lastModifiedDate.toLocaleDateString() :\n",
              "                                    'n/a'} - `));\n",
              "    const percent = span('0% done');\n",
              "    li.appendChild(percent);\n",
              "\n",
              "    outputElement.appendChild(li);\n",
              "\n",
              "    const fileDataPromise = new Promise((resolve) => {\n",
              "      const reader = new FileReader();\n",
              "      reader.onload = (e) => {\n",
              "        resolve(e.target.result);\n",
              "      };\n",
              "      reader.readAsArrayBuffer(file);\n",
              "    });\n",
              "    // Wait for the data to be ready.\n",
              "    let fileData = yield {\n",
              "      promise: fileDataPromise,\n",
              "      response: {\n",
              "        action: 'continue',\n",
              "      }\n",
              "    };\n",
              "\n",
              "    // Use a chunked sending to avoid message size limits. See b/62115660.\n",
              "    let position = 0;\n",
              "    do {\n",
              "      const length = Math.min(fileData.byteLength - position, MAX_PAYLOAD_SIZE);\n",
              "      const chunk = new Uint8Array(fileData, position, length);\n",
              "      position += length;\n",
              "\n",
              "      const base64 = btoa(String.fromCharCode.apply(null, chunk));\n",
              "      yield {\n",
              "        response: {\n",
              "          action: 'append',\n",
              "          file: file.name,\n",
              "          data: base64,\n",
              "        },\n",
              "      };\n",
              "\n",
              "      let percentDone = fileData.byteLength === 0 ?\n",
              "          100 :\n",
              "          Math.round((position / fileData.byteLength) * 100);\n",
              "      percent.textContent = `${percentDone}% done`;\n",
              "\n",
              "    } while (position < fileData.byteLength);\n",
              "  }\n",
              "\n",
              "  // All done.\n",
              "  yield {\n",
              "    response: {\n",
              "      action: 'complete',\n",
              "    }\n",
              "  };\n",
              "}\n",
              "\n",
              "scope.google = scope.google || {};\n",
              "scope.google.colab = scope.google.colab || {};\n",
              "scope.google.colab._files = {\n",
              "  _uploadFiles,\n",
              "  _uploadFilesContinue,\n",
              "};\n",
              "})(self);\n",
              "</script> "
            ]
          },
          "metadata": {}
        },
        {
          "output_type": "stream",
          "name": "stdout",
          "text": [
            "Saving faa_strikes.txt to faa_strikes.txt\n"
          ]
        }
      ],
      "source": [
        "from google.colab import files\n",
        "uploaded = files.upload()"
      ]
    },
    {
      "cell_type": "markdown",
      "metadata": {
        "id": "oaUYy5RlJsL-"
      },
      "source": [
        "## Question 1: Running total of strikes by day through 2013\n",
        "\n",
        "You are interested in seeing the running total of strikes over time (`Collision Date and Time`) on a daily basis. Using the `strikes` dataframe, create a new column that removes the time information but keeps the date information from the `Collision Date and Time` column (call this new field `date`). Next, aggregate the `Number of Strikes` by day (call this new field `daily_strikes`). Sort the data in ascending order by `date`. Then, create the running total of `daily_strikes` (name the new field `strikes_cumulative`) and filter to only the records **up to and including** the `date` of 2013-12-31. Name the resulting data frame `running_total_strikes`.\n",
        "\n",
        "*Please place a Python code block and code below. The output should be a DataFrame. You must use a window function to receive credit on this question.*"
      ]
    },
    {
      "cell_type": "code",
      "execution_count": 13,
      "metadata": {
        "colab": {
          "base_uri": "https://localhost:8080/"
        },
        "id": "2ot2AQNYJsL-",
        "outputId": "166599a5-3a3c-4ef4-ef4e-b50507a0e635"
      },
      "outputs": [
        {
          "output_type": "stream",
          "name": "stdout",
          "text": [
            "shape: (5, 3)\n",
            "┌────────────┬───────────────┬────────────────────┐\n",
            "│ date       ┆ daily_strikes ┆ strikes_cumulative │\n",
            "│ ---        ┆ ---           ┆ ---                │\n",
            "│ date       ┆ i64           ┆ i64                │\n",
            "╞════════════╪═══════════════╪════════════════════╡\n",
            "│ 2000-01-02 ┆ 1             ┆ 1                  │\n",
            "│ 2000-01-03 ┆ 2             ┆ 3                  │\n",
            "│ 2000-01-05 ┆ 3             ┆ 6                  │\n",
            "│ 2000-01-06 ┆ 1             ┆ 7                  │\n",
            "│ 2000-01-08 ┆ 4             ┆ 11                 │\n",
            "└────────────┴───────────────┴────────────────────┘\n",
            "(4776, 3)\n"
          ]
        }
      ],
      "source": [
        "# Your code here\n",
        "import polars as pl\n",
        "\n",
        "strikes = pl.read_csv(\"faa_strikes.txt\", separator=\"\\t\", null_values=[\"NA\", \"\"])\n",
        "\n",
        "strikes = strikes.with_columns(pl.col(\"Collision Date and Time\").str.strptime(pl.Datetime, strict=False).dt.date().alias(\"date\"))\n",
        "\n",
        "daily_strikes = (strikes.group_by(\"date\").agg(pl.col(\"Number of Strikes\").sum().alias(\"daily_strikes\")).sort(\"date\"))\n",
        "\n",
        "running_total_strikes = (daily_strikes.with_columns(pl.col(\"daily_strikes\").cum_sum().alias(\"strikes_cumulative\")).filter(pl.col(\"date\") <= pl.date(2013, 12, 31)))\n",
        "print(running_total_strikes.head())\n",
        "print(running_total_strikes.shape)"
      ]
    },
    {
      "cell_type": "markdown",
      "metadata": {
        "id": "l66vg7ofJsL_"
      },
      "source": [
        "## Question 2: States with the third highest financial cost\n",
        "\n",
        "The FAA is interested in the financial cost of strikes for each `Origin State`. Using the `strikes` dataframe: first, sum `Cost: Total $` by `Origin State` (name the resulting column `damage`) then `rank` these states in order of which state had the most financial `damage` (name the new column with rank information, `ranking`). Next, filter to show the row with the third highest `ranking`. Use a window function to answer this question. Name the resulting dataframe `damage_state`.\n",
        "\n",
        "*Please place a Python code block and code below. The output should be a DataFrame. You must use a window function to receive credit on this question.*"
      ]
    },
    {
      "cell_type": "code",
      "execution_count": 15,
      "metadata": {
        "colab": {
          "base_uri": "https://localhost:8080/"
        },
        "id": "Ip_QjL1aJsL_",
        "outputId": "d3f7342f-4477-4fe6-f321-28f7e5c084f4"
      },
      "outputs": [
        {
          "output_type": "stream",
          "name": "stdout",
          "text": [
            "shape: (1, 3)\n",
            "┌──────────────┬──────────┬─────────┐\n",
            "│ Origin State ┆ damage   ┆ ranking │\n",
            "│ ---          ┆ ---      ┆ ---     │\n",
            "│ str          ┆ i64      ┆ u32     │\n",
            "╞══════════════╪══════════╪═════════╡\n",
            "│ California   ┆ 29671432 ┆ 3       │\n",
            "└──────────────┴──────────┴─────────┘\n"
          ]
        }
      ],
      "source": [
        "# Your code here\n",
        "damage_state = (strikes.group_by(\"Origin State\").agg(pl.col(\"Cost: Total $\").sum().alias(\"damage\")).with_columns(pl.col(\"damage\").rank(\"dense\", descending=True).alias(\"ranking\")).filter(pl.col(\"ranking\") == 3))\n",
        "\n",
        "print(damage_state)"
      ]
    },
    {
      "cell_type": "markdown",
      "metadata": {
        "id": "7I8-MNvzJsL_"
      },
      "source": [
        "## Question 3: What are the second costliest Species Groups for each Aircraft Type?\n",
        "\n",
        "The FAA wants to know if some species groups are more dangerous to particular types of aircraft. Using the `strikes` dataframe: first, sum financial damage (`Cost: Total $`) information by `Aircraft: Type` and `Wildlife: Species Group` (name the new field `damage`). Rank the rows within each `Aircraft: Type` based on the greatest amount of `damage`; when performing the ranking function, name the new column `ranking`. Return the rows that represent the `Wildlife: Species Group` values that caused the **second most** financial `damage` to each `Aircraft: Type`. Name the resulting dataframe `type_species`.\n",
        "\n",
        "*Please place a Python code block and code below. The output should be a DataFrame. You must use a ranking function to receive credit on this question.*"
      ]
    },
    {
      "cell_type": "code",
      "execution_count": 17,
      "metadata": {
        "colab": {
          "base_uri": "https://localhost:8080/"
        },
        "id": "XTmtvHN-JsL_",
        "outputId": "0835a87c-5eb1-4eea-c8e1-202e4ecb2a3b"
      },
      "outputs": [
        {
          "output_type": "stream",
          "name": "stdout",
          "text": [
            "shape: (3, 4)\n",
            "┌────────────────┬─────────────────────────┬──────────┬─────────┐\n",
            "│ Aircraft: Type ┆ Wildlife: Species Group ┆ damage   ┆ ranking │\n",
            "│ ---            ┆ ---                     ┆ ---      ┆ ---     │\n",
            "│ str            ┆ str                     ┆ i64      ┆ u32     │\n",
            "╞════════════════╪═════════════════════════╪══════════╪═════════╡\n",
            "│ null           ┆ Vultures                ┆ 56227    ┆ 2       │\n",
            "│ Airplane       ┆ Kites, Hawks, Eagles    ┆ 48989287 ┆ 2       │\n",
            "│ Helicopter     ┆ Vultures                ┆ 116748   ┆ 2       │\n",
            "└────────────────┴─────────────────────────┴──────────┴─────────┘\n"
          ]
        }
      ],
      "source": [
        "# Your code here\n",
        "type_species = (strikes.group_by([\"Aircraft: Type\", \"Wildlife: Species Group\"]).agg(pl.col(\"Cost: Total $\").sum().alias(\"damage\")).with_columns(pl.col(\"damage\").rank(\"dense\", descending=True).over(\"Aircraft: Type\").alias(\"ranking\")).filter(pl.col(\"ranking\") == 2))\n",
        "\n",
        "print(type_species)"
      ]
    },
    {
      "cell_type": "markdown",
      "metadata": {
        "id": "_eIf3NxLJsL_"
      },
      "source": [
        "## Question 4: Which days had the greatest positive jump in strikes?\n",
        "\n",
        "The FAA wants to investigate which days had the largest increase in strikes from the previous day. Using the `strikes` dataframe: sum the `Number of Strikes` measure by day (note: not by day and time). You can use a similar technique from Question 1 to create a new column from `Collision Date and Time` without time information and with date information (name this column `date`). Next, compute the previous day's strikes using a window function (name the new column `previous_day`), and calculate the difference of strikes between the current day and the previous day (name the new column `delta_strikes`). Sort the resulting data by `delta_strikes` in descending order to find which days had the highest increase of strikes from the previous day. Name the resulting dataframe `greatest_strike_increase`.\n",
        "\n",
        "**Hint:** This code is more involved that other exercises, so I will explicitly name the steps to answer the question.\n",
        "\n",
        "1. Start with the `strikes` data frame\n",
        "2. Create a new column called `date` which removes the time information in the `Collision Date and Time` column\n",
        "3. Sum the `Number of Strikes` by `date`, and name the new column `daily_strikes`\n",
        "4. Sort by the `date` column in ascending order\n",
        "5. Create a new column called `previous_day` to calculate what the `daily_strikes` were in the previous day\n",
        "6. Create a new column called `delta_strikes` which subtracts `previous_day` from `daily_strikes`\n",
        "7. Sort in descending order by `delta_strikes`\n",
        "\n",
        "*Please place a Python code block and code below. The output should be a DataFrame. You must use a window function to receive credit on this question.*"
      ]
    },
    {
      "cell_type": "code",
      "execution_count": 33,
      "metadata": {
        "colab": {
          "base_uri": "https://localhost:8080/"
        },
        "id": "M0jgHOEdJsMA",
        "outputId": "ad32530b-4df9-4041-bbe7-9f25247ddfe7"
      },
      "outputs": [
        {
          "output_type": "stream",
          "name": "stdout",
          "text": [
            "shape: (10, 4)\n",
            "┌────────────┬───────────────┬──────────────┬───────────────┐\n",
            "│ date       ┆ daily_strikes ┆ previous_day ┆ delta_strikes │\n",
            "│ ---        ┆ ---           ┆ ---          ┆ ---           │\n",
            "│ date       ┆ i64           ┆ i64          ┆ i64           │\n",
            "╞════════════╪═══════════════╪══════════════╪═══════════════╡\n",
            "│ 2000-01-02 ┆ 1             ┆ null         ┆ null          │\n",
            "│ 2010-10-29 ┆ 25            ┆ 7            ┆ 18            │\n",
            "│ 2014-08-25 ┆ 25            ┆ 8            ┆ 17            │\n",
            "│ 2012-06-28 ┆ 21            ┆ 5            ┆ 16            │\n",
            "│ 2009-07-07 ┆ 21            ┆ 7            ┆ 14            │\n",
            "│ 2013-11-04 ┆ 22            ┆ 8            ┆ 14            │\n",
            "│ 2014-10-28 ┆ 24            ┆ 10           ┆ 14            │\n",
            "│ 2009-09-13 ┆ 16            ┆ 3            ┆ 13            │\n",
            "│ 2009-10-05 ┆ 18            ┆ 5            ┆ 13            │\n",
            "│ 2011-07-29 ┆ 23            ┆ 10           ┆ 13            │\n",
            "└────────────┴───────────────┴──────────────┴───────────────┘\n"
          ]
        }
      ],
      "source": [
        "# Your code here\n",
        "import polars as pl\n",
        "\n",
        "strikes_w_date = strikes.with_columns(pl.col(\"Collision Date and Time\").str.strptime(pl.Datetime, strict=False).dt.date().alias(\"date\"))\n",
        "\n",
        "\n",
        "daily_strikes = (strikes_w_date.group_by(\"date\").agg(pl.col(\"Number of Strikes\").sum().alias(\"daily_strikes\")).sort(\"date\"))\n",
        "\n",
        "\n",
        "greatest_strike_increase = (daily_strikes.with_columns([pl.col(\"daily_strikes\").shift().alias(\"previous_day\"),(pl.col(\"daily_strikes\") - pl.col(\"daily_strikes\").shift()).alias(\"delta_strikes\")]).sort(\"delta_strikes\", descending=True))\n",
        "\n",
        "print(greatest_strike_increase.head(10))"
      ]
    },
    {
      "cell_type": "markdown",
      "metadata": {
        "id": "-zwQQ-2YJsMA"
      },
      "source": [
        "## Question 5: Which single day had the greatest increase in strikes for each `Aircraft: Type`?\n",
        "\n",
        "FAA was interested in the exercise from the last question but now wants to determine the largest delta between days for each `Aircraft: Type`. What are the days that had largest positive change in strikes for each `Aircraft: Type`? In order to answer this question, you will need to perform the exercise from Question 4, but this time include a grouping by `Aircraft: Type`. After grouping by `Aircraft: Type`, add a column called `ranking` and use a window function to determine the day with the largest increase in strikes from the previous day. Name the resulting data frame `greatest_strike_increase_type`\n",
        "\n",
        "NOTE: Helicopters are not struck with a high frequency and will not show up in your analysis; this is fine."
      ]
    },
    {
      "cell_type": "code",
      "execution_count": 42,
      "metadata": {
        "colab": {
          "base_uri": "https://localhost:8080/"
        },
        "id": "O7I52EScJsMA",
        "outputId": "ce87f909-9606-4471-d504-4ff2526cb487"
      },
      "outputs": [
        {
          "output_type": "stream",
          "name": "stdout",
          "text": [
            "shape: (6, 6)\n",
            "┌────────────────┬────────────┬───────────────┬──────────────┬───────────────┬─────────┐\n",
            "│ Aircraft: Type ┆ date       ┆ daily_strikes ┆ previous_day ┆ delta_strikes ┆ ranking │\n",
            "│ ---            ┆ ---        ┆ ---           ┆ ---          ┆ ---           ┆ ---     │\n",
            "│ str            ┆ date       ┆ i64           ┆ i64          ┆ i64           ┆ u32     │\n",
            "╞════════════════╪════════════╪═══════════════╪══════════════╪═══════════════╪═════════╡\n",
            "│ null           ┆ 2014-08-04 ┆ 5             ┆ 1            ┆ 4             ┆ 1       │\n",
            "│ Airplane       ┆ 2014-08-25 ┆ 25            ┆ 8            ┆ 17            ┆ 1       │\n",
            "│ Helicopter     ┆ 2010-07-21 ┆ 2             ┆ 1            ┆ 1             ┆ 1       │\n",
            "│ Helicopter     ┆ 2012-11-02 ┆ 2             ┆ 1            ┆ 1             ┆ 1       │\n",
            "│ Helicopter     ┆ 2013-10-28 ┆ 2             ┆ 1            ┆ 1             ┆ 1       │\n",
            "│ Helicopter     ┆ 2014-08-14 ┆ 2             ┆ 1            ┆ 1             ┆ 1       │\n",
            "└────────────────┴────────────┴───────────────┴──────────────┴───────────────┴─────────┘\n"
          ]
        }
      ],
      "source": [
        "# Your code here\n",
        "import polars as pl\n",
        "\n",
        "strikes_w_date = strikes.with_columns(pl.col(\"Collision Date and Time\").str.strptime(pl.Datetime, strict=False).dt.date().alias(\"date\"))\n",
        "\n",
        "daily_by_type = (strikes_w_date.group_by([\"Aircraft: Type\", \"date\"]).agg(pl.col(\"Number of Strikes\").sum().alias(\"daily_strikes\")).sort([\"Aircraft: Type\", \"date\"]))\n",
        "\n",
        "greatest_strike_increase_type = (daily_by_type.with_columns([pl.col(\"daily_strikes\").shift().over(\"Aircraft: Type\").alias(\"previous_day\"),(pl.col(\"daily_strikes\") - pl.col(\"daily_strikes\").shift().over(\"Aircraft: Type\")).alias(\"delta_strikes\"),]).with_columns(pl.col(\"delta_strikes\").rank(\"dense\", descending=True).over(\"Aircraft: Type\").alias(\"ranking\")).filter((pl.col(\"ranking\") == 1) & (pl.col(\"delta_strikes\") > 0)))\n",
        "\n",
        "print(greatest_strike_increase_type)"
      ]
    }
  ],
  "metadata": {
    "kernelspec": {
      "display_name": "Python 3",
      "language": "python",
      "name": "python3"
    },
    "language_info": {
      "codemirror_mode": {
        "name": "ipython",
        "version": 3
      },
      "file_extension": ".py",
      "mimetype": "text/x-python",
      "name": "python",
      "nbconvert_exporter": "python",
      "pygments_lexer": "ipython3",
      "version": "3.8.0"
    },
    "colab": {
      "provenance": []
    }
  },
  "nbformat": 4,
  "nbformat_minor": 0
}